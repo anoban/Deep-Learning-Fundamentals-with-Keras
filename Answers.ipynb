{
 "cells": [
  {
   "cell_type": "markdown",
   "id": "7c0fa44a-c8ae-4691-ad7c-7f45e77e7388",
   "metadata": {},
   "source": [
    "# <font color = \"red\"> _**Module 1 - Introduction to Deep Learning**_ </font>\n",
    "_________________________________________________"
   ]
  },
  {
   "cell_type": "markdown",
   "id": "d895aa55-1413-4e90-9c4a-b48e365260b0",
   "metadata": {},
   "source": [
    "## Review Question 1\n",
    "\n",
    "**Which of the following are applications of deep learning?**    \n",
    "&emsp; &emsp; 1) Automatic Handwriting Generation    \n",
    "&emsp; &emsp; 2) Self-Driving Cars    \n",
    "&emsp; &emsp; 3) Automatic Machine Translation    \n",
    "&emsp; &emsp; 4) Color Restoration in Greyscale Images     \n",
    "&emsp; &emsp; 5) **_All of the Above_**    \n",
    "\n",
    "\n",
    "## Review Question 2     \n",
    "\n",
    "**An artificial neural network can be composed of which of the following types of layers?**         \n",
    "&emsp; &emsp; 1) Intermediate Layer       \n",
    "&emsp; &emsp; 2) **_Input Layer_**           \n",
    "&emsp; &emsp; 3) Sparse Layer          \n",
    "&emsp; &emsp; 4) **_Output Layer_**        \n",
    "&emsp; &emsp; 5) **_Hidden Layer_**                \n",
    "\n",
    "## Review Question 3            \n",
    "\n",
    "A artificial neuron is so powerful that it can perform complex tasks by simply performing a linear combination of its inputs.              \n",
    "&emsp; &emsp; 1) True          \n",
    "&emsp; &emsp; 2) _**False**_             \n",
    "\n",
    "## Review Question 4          \n",
    "\n",
    "Given below is a neural network with one neuron that takes two float numbers as inputs.      \n",
    "What is the value of z for the given x1 and x2?        \n",
    "&emsp; &emsp;_**`0.2675`**_            \n",
    "\n",
    "## Review Question 5            \n",
    "\n",
    "The model in Review Question 4 uses the sigmoid activation function.          \n",
    "What is the output of the network?          \n",
    "&emsp; &emsp;_**`0.5665`**_            "
   ]
  },
  {
   "cell_type": "markdown",
   "id": "1642f4d7-0adc-4760-bd65-4394473f4dac",
   "metadata": {
    "tags": []
   },
   "source": [
    "# <font color = \"red\"> _**Module 2 - Artificial Neural Networks**_ </font>\n",
    "____________________________________________________________"
   ]
  },
  {
   "cell_type": "markdown",
   "id": "812b0225-6a49-478f-8682-c51bf734bc9a",
   "metadata": {},
   "source": [
    "## Review Question 1\n",
    "\n",
    "**The weights and biases in a neural network are optimized using:**    \n",
    "&emsp; &emsp; 1) **_Gradient Descent_**    \n",
    "&emsp; &emsp; 2) Vanishing Gradient      \n",
    "&emsp; &emsp; 3) Activation Function      \n",
    "&emsp; &emsp; 4) Activation Descent         \n",
    "&emsp; &emsp; 5) Logistic Descent         \n",
    "   \n",
    "## Review Question 2     \n",
    "\n",
    "**For a cost function, <font size = \"10\"> $J = \\sum_{i=1}^{m}{(z_i - w.x_i - b)^2}$</font>, that we would like to minimize, which of the following expressions represent updating the parameter, $w$ , using gradient descent?**         \n",
    "# &emsp; &emsp; $w$ &rarr; **_$w - \\eta*\\frac{\\partial{J}}{\\partial{w}}$_**      \n",
    "\n",
    "## Review Question 3            \n",
    "\n",
    "**What type of activation function is this?**                   \n",
    "&emsp; &emsp; 1) **_ReLU_**      \n",
    "&emsp; &emsp; 2) Binary Function      \n",
    "&emsp; &emsp; 3) Hyperbolic Tangent Function      \n",
    "&emsp; &emsp; 4) Linear Function      \n",
    "&emsp; &emsp; 5) Leaky ReLU      \n",
    "&emsp; &emsp; 6) Sigmoid Function               \n",
    "\n",
    "## Review Question 4          \n",
    "\n",
    "**What type of activation function is this?**                   \n",
    "&emsp; &emsp;1) ReLU  \n",
    "&emsp; &emsp; 2) Binary Function      \n",
    "&emsp; &emsp; 3) **_Hyperbolic Tangent Function_**          \n",
    "&emsp; &emsp; 4) Linear Function      \n",
    "&emsp; &emsp; 5) Leaky ReLU      \n",
    "&emsp; &emsp; 6) Sigmoid Function  \n",
    "\n",
    "## Review Question 5            \n",
    "\n",
    "**Softmax activation function is most commonly used in hidden layers?**   \n",
    "&emsp; &emsp; 1) True  \n",
    "&emsp; &emsp; 2) **_False_**\n",
    "       "
   ]
  },
  {
   "cell_type": "markdown",
   "id": "94600265-021e-4c22-8590-5b6a86e16fce",
   "metadata": {},
   "source": [
    "# <font color = \"red\"> _**Module 3 - Keras and Deep Learning Libraries**_ </font>\n",
    "_____________________________"
   ]
  },
  {
   "cell_type": "markdown",
   "id": "40e7d904-13fc-4327-a728-a7f384763377",
   "metadata": {},
   "source": [
    "## Review Question 1\n",
    "\n",
    "**Which ofthe following statements is correct?**     \n",
    "&emsp; &emsp; 1) Keras and PyTorch are both supported by Google and are being actively used at Google for both research and production needs.        \n",
    "&emsp; &emsp; 2) PyTorch normally runs on top of a low-level library such as TensorFlow.        \n",
    "&emsp; &emsp; 3) **_Keras is a high-level API that facilitates fast development and quick prototyping of deep learning models._**         \n",
    "&emsp; &emsp; 4) Among TensorFlow, PyTorch, and Keras, Keras is the most popular library and is mostly used in production of deep learning models.        \n",
    "&emsp; &emsp; 5) TensorFlow is the cousin of the Torch framework, which is in Lua, and supports machine learning algorithms running on GPUs in particular.           \n",
    "\n",
    "## Review Question 2\n",
    "\n",
    "**Both TensorFlow and PyTorch are high level APIs for building deep learning models. They provide limited control over the different nodes and layers in a network. If you are seeking more control over a network, then Keras is the right library.**      \n",
    "&emsp; &emsp; 1) True          \n",
    "&emsp; &emsp; 2) **_False_**      \n",
    "\n",
    "##  Review Question 3\n",
    "\n",
    "**There are three model classes in the Keras library, the Sequential model, the Dense model, and the Model class used with the functional API.**         \n",
    "&emsp; &emsp; 1) True           \n",
    "&emsp; &emsp; 2) **_False_**      \n",
    "\n",
    "## Review Question 4\n",
    "\n",
    "**Which of the following codes create the followig neural network using the Keras library?**   \n",
    "**&emsp; &emsp;`model = Sequential()`      \n",
    "&emsp; &emsp;&emsp; `model.add(Dense(8, activation='relu', input_shape=(4,)))`      \n",
    "&emsp; &emsp;&emsp; `model.add(Dense(5, activation='relu'))`      \n",
    "&emsp; &emsp;&emsp; `model.add(Dense(5, activation='relu'))`      \n",
    "&emsp; &emsp;&emsp; `model.add(Dense(1))`**        \n",
    "\n",
    "## Review Question 5\n",
    "\n",
    "**If a model can be saved using the Keras library, which of following methods is the correct method to do so?**   \n",
    "&emsp; &emsp; 1) model.model_save()    \n",
    "&emsp; &emsp; 2) **_`model.save()`_**   \n",
    "&emsp; &emsp; 3) model.save_model()       \n",
    "&emsp; &emsp; 4) model.pickle()      \n",
    "&emsp; &emsp; 5) You cannot save a model with the Keras library     "
   ]
  },
  {
   "cell_type": "markdown",
   "id": "ea94a8a2-b3ba-4b76-a780-d8109299ceb3",
   "metadata": {
    "tags": []
   },
   "source": [
    "# <font color = \"red\"> _**Module 4 - Deep Learning Models**_ </font>\n",
    "_________________________________________________________"
   ]
  },
  {
   "cell_type": "markdown",
   "id": "549d0ee8-3e0d-4a46-be7d-2728b19c3911",
   "metadata": {},
   "source": [
    "## Review Question 1\n",
    "\n",
    "**Why is the convolutional layer important in convolutional neural networks?**        \n",
    "&emsp; 1) Because convolutional neural networks take flattened images as input and therefore the convolutional layer helps the model regenerate the input images        \n",
    "&emsp; 2) Because convolutional neural networks are unsupervised deep learning models and therefore, a convolutional layer helps the model better fit the data         \n",
    "&emsp; 3) **_Because if we do not use a convolutional layer, we will end up with a massive number of parameters that will need to be optimized and it will be super computationally expensive_**       \n",
    "&emsp; 4) Because a convolutional layer would make the model overfit the training data so that it generalizes better         \n",
    "&emsp; 5) None of the above       \n",
    "\n",
    "\n",
    "## Review Question 2\n",
    "\n",
    "**The following is a typical architecture of a convolutional neural network.**  \n",
    "&emsp; 1) True     \n",
    "&emsp; 2) _**False**_    \n",
    "\n",
    "\n",
    "## Review Question 3\n",
    "\n",
    "**For unsupervised learning, which of the following deep neural networks would you choose? Select all that apply**        \n",
    "&emsp; 1) Convolutional Neural Netwroks    \n",
    "&emsp; 2) **_Autoencoders_**     \n",
    "&emsp; 3) Recurrent Neural Networks      \n",
    "&emsp; 4) **_Restricted Boltzmann Machines_**      \n",
    "&emsp; 5) Long Short Term Memory Networks    \n",
    "\n",
    "## Review Question 4\n",
    "\n",
    "**Recurrent Neural Networks are networks with loops, that don't just take a new input at a time, but also take as input the output from the data point at the previous instance.**         \n",
    "&emsp; 1) _**True**_     \n",
    "&emsp; 2) False\n",
    "\n",
    "## Review Question 5\n",
    "\n",
    "**Which of the following statements is correct?**    \n",
    "&emsp; 1) _**An autoencoder is an unsupervised neural network model that uses backpropagation by setting the target variable to be the same as the input**_                 \n",
    "&emsp; 2) Recurrent neural networks are best for solving problems related to image recognition, object detection, and other computer vision applications        \n",
    "&emsp; 3) An autoencoder consists of a series of convolutional, ReLU, and pooling layers, as well as a number of fully connected layers         \n",
    "&emsp; 4) Just like conventional neural networks, a convolutional neural network takes (n x 1) vectors as input      \n",
    "&emsp; 5) A convolutional neural network is an unsupervised neural network model that uses backpropagation by setting the target variable to be the same as the input        "
   ]
  },
  {
   "cell_type": "markdown",
   "id": "de33663d-3026-4e7e-98b0-12f3f1b28184",
   "metadata": {},
   "source": [
    "# <font color = \"red\"> _**Final Exam**_ </font>\n",
    "_________________________________"
   ]
  },
  {
   "cell_type": "markdown",
   "id": "2804825a-52e8-40c7-bda5-cb3d2b5d20f5",
   "metadata": {
    "tags": []
   },
   "source": [
    "## Question 1 \n",
    "**Which of the following are applications of Deep Learning?**     \n",
    "&emsp;&emsp; 1) Iterating Photos to Create New Objects      \n",
    "&emsp;&emsp; 2) Object Detection in Images     \n",
    "&emsp;&emsp; 3) Restoring Sounds in videos      \n",
    "&emsp;&emsp; 4) Speech Enactment        \n",
    "&emsp;&emsp; 5) _**All of the Above**_     \n",
    "\n",
    "## Question 2\n",
    "\n",
    "**An output layer can only have 1 neuron.**     \n",
    "&emsp;&emsp; 1) True      \n",
    "&emsp;&emsp; 2) _**False**_    \n",
    "\n",
    "## Question 3\n",
    "\n",
    "**How many hidden layers does the following neural network have?**     \n",
    "&emsp;&emsp; 1) 5         \n",
    "&emsp;&emsp; 2) **_3_**             \n",
    "&emsp;&emsp; 3) 1          \n",
    "&emsp;&emsp; 4) 2       \n",
    "&emsp;&emsp; 5) The network does not have any hidden layers      \n",
    "\n",
    "## Question 4\n",
    "\n",
    "**Use the following neural network for Questions 1- 7.**\n",
    "\n",
    "**The following is a neural network, that takes an input vector of size 2, has a hidden layer of two neurons, and has an output layer of two neurons too.\n",
    "The neural network uses the sigmoid function as an activation function for ALL the neurons.\n",
    "What is the value of $z_{1,1}$ ?**     \n",
    "&emsp;&emsp;&emsp;&emsp; `0.51`\n",
    "\n",
    "## Question 5\n",
    "\n",
    "**Using the same network in Question 3, what is the value of $a_{1,2}$ ?**          \n",
    "&emsp;&emsp;&emsp;&emsp; `0.6318124177361016`\n",
    "\n",
    "## Question 6\n",
    "\n",
    "**Using the same network in Question 3, what is the value of $a_{2,1}$ ?**     \n",
    "&emsp;&emsp;&emsp;&emsp; `0.7194006710513193`        \n",
    "\n",
    "\n",
    "## Question 7\n",
    "\n",
    "**Using the same network in Question 3, what is the value of $a_{2,2}$ ?**     \n",
    "&emsp;&emsp;&emsp;&emsp; `0.6728397191051313`\n",
    "\n",
    "## Question 8\n",
    "\n",
    "**Using the same network in Question 3, what is the total error between the predicted values and the ground Truth values?**          \n",
    "&emsp;&emsp;&emsp;&emsp; `0.17780144466022077`\n",
    "\n",
    "## Questions 9 & 10 _:((( Don't know the answers_\n",
    "\n",
    "## Question 11\n",
    "\n",
    "**Vanishing gradient is a problem that occurs in the later layers of a network mainly when using the sigmoid function as the activation function in the hidden layers.**       \n",
    "&emsp;&emsp; 1) True           \n",
    "&emsp;&emsp; 2) **_False_**         \n",
    "\n",
    "## Question 12\n",
    "\n",
    "**What is true about the softmax activation function? Select all that apply**    \n",
    "&emsp;&emsp; 1) It is a type of a linear function and is very handy when building a network for a regression problem          \n",
    "&emsp;&emsp; 2) It turns very large positive numbers to 1 and very large negative numbers to 0               \n",
    "&emsp;&emsp; 3) **_It is a type of a sigmoid function_**             \n",
    "&emsp;&emsp; 4) It is as good as the ReLU function and can be safely used in hidden layers        \n",
    "&emsp;&emsp; 5) **_It is very handy when building a network for a classification problem_**           \n",
    "\n",
    "## Question 13\n",
    "\n",
    "**Keras is a high level API for building deep learning models. It provides limited control over the different nodes and layers in a network. If you are seeking more control over a network, then TensorFlow is the right library.**         \n",
    "&emsp;&emsp; 1) **_True_**        \n",
    "&emsp;&emsp; 2) False         \n",
    "\n",
    "## Question 14\n",
    "\n",
    "**Which of the following codes create the followig neural network using the Keras library?**  \n",
    "\n",
    "&emsp;&emsp;**`model = Sequential()`        \n",
    "&emsp;&emsp;&emsp;&emsp;`model.add(Dense(8, activation='relu', input_shape=(4,)))`      \n",
    "&emsp;&emsp;&emsp;&emsp;`model.add(Dense(5, activation='relu'))`        \n",
    "&emsp;&emsp;&emsp;&emsp;`model.add(Dense(1))`**        \n",
    "\n",
    "## Question 15\n",
    "\n",
    "**For supervised learning, which of the following deep neural networks would you choose? Select all that apply**   \n",
    "&emsp;&emsp; 1) Autoencoders           \n",
    "&emsp;&emsp; 2) **_Convolutional Neural Netwroks_**      \n",
    "&emsp;&emsp; 3) Restricted Boltzmann Machines    \n",
    "&emsp;&emsp; 4) **_Recurrent Neural Networks   \n",
    "&emsp;&emsp; 5) Long Short Term Memory Networks_**         \n",
    "\n",
    "## Question 16\n",
    "\n",
    "**Which of these lines of code add the following to a convolutional neural network?**\n",
    "\n",
    "**1) a convolutional layer with 16 filters of size 3, 5 that scan the input images with a stride of magnitude 1 in the horizontal direction and of magnitude 2 in the vertical direction, and uses the relu function as the activation function    \n",
    "2) a pooling layer that performs max pooling with a pool size of 2 by 1**   \n",
    "\n",
    "**&emsp;&emsp;`model.add(Conv2D(16, kernel_size=(3, 5), strides=(1, 2), activation='relu'))`**       \n",
    "**&emsp;&emsp;`model.add(MaxPooling2D(pool_size=(2, 1))`**\n",
    "\n",
    "\n",
    "## Question 17\n",
    "\n",
    "**Which of the following statements are true about convolutional neural networks? Select all that apply**\n",
    "&emsp;&emsp; 1) A convolutional neural network is an unsupervised neural network model that uses backpropagation by setting the target variable to be the same as the input       \n",
    "&emsp;&emsp; 2) **_A convolutional neural network consists of a series of convolutional, ReLU, and pooling layers, as well as a number of fully connected layers_**      \n",
    "&emsp;&emsp; 3) Convolutional neural networks cannot take images as input      \n",
    "&emsp;&emsp; 4) Just like conventional neural networks, a convolutional neural network takes (n x 1) vectors as input     \n",
    "&emsp;&emsp; 5) **_Convolutional neural networks are best for solving problems related to image recognition, object detection, and other computer vision applications_**         \n",
    "\n",
    "## Question 18\n",
    "\n",
    "**In a convolutional neural network, the pooling layer's main objective is to flatten the image data before passing it on to the next convolutional layer.**      \n",
    "&emsp;&emsp; 1) True        \n",
    "&emsp;&emsp; 2) **_False_**        \n",
    "\n",
    "## Question 19\n",
    "\n",
    "**Recurrent Neural Networks are networks with loops, that don't just take a new input at a time, but also take as input the outputs from previous and future data points.**         \n",
    "&emsp;&emsp; 1) True      \n",
    "&emsp;&emsp; 2) **_False_**         \n",
    "\n",
    "## Question 20 \n",
    "\n",
    "**The following is a typical architecture of:**   \n",
    "&emsp;&emsp; 1) Restricted Boltzmann Machines        \n",
    "&emsp;&emsp; 2) Convolutional Neural Networks          \n",
    "&emsp;&emsp; 3) **_Recurrent Neural Networks_**           \n",
    "&emsp;&emsp; 4) Autoencoders         \n",
    "&emsp;&emsp; 5) None of the above            "
   ]
  },
  {
   "cell_type": "markdown",
   "id": "adf2fe63-7e2c-410c-bbbd-8c39f94e254e",
   "metadata": {},
   "source": [
    "## **_Some calculations for the neural network questions_**"
   ]
  },
  {
   "cell_type": "code",
   "execution_count": 1,
   "id": "ac275365-f0b1-4012-8184-cb96ceb5e809",
   "metadata": {},
   "outputs": [],
   "source": [
    "x1 = 0.25\n",
    "x2 = 0.05\n",
    "w1 = 0.15\n",
    "w2 = 0.45\n",
    "w3 = 0.25\n",
    "w4 = 0.55\n",
    "w5 = 0.50\n",
    "w6 = 0.60\n",
    "w7 = 0.40\n",
    "w8 = 0.35\n",
    "b1 = 0.45\n",
    "b2 = 0.25"
   ]
  },
  {
   "cell_type": "code",
   "execution_count": 2,
   "id": "48b4c7f6-bca0-4cf1-bd27-da90b144eaea",
   "metadata": {},
   "outputs": [
    {
     "data": {
      "text/plain": [
       "0.51"
      ]
     },
     "execution_count": 2,
     "metadata": {},
     "output_type": "execute_result"
    }
   ],
   "source": [
    "z1 = (x1 * w1) + (x2 * w2) + b1\n",
    "z1"
   ]
  },
  {
   "cell_type": "code",
   "execution_count": 3,
   "id": "ee4afdaf-cdb7-432c-b35e-ef33aca89bd3",
   "metadata": {},
   "outputs": [],
   "source": [
    "import numpy as np"
   ]
  },
  {
   "cell_type": "code",
   "execution_count": 4,
   "id": "f6364c73-850e-4d92-bd46-8732bd781a86",
   "metadata": {},
   "outputs": [
    {
     "data": {
      "text/plain": [
       "0.6318124177361016"
      ]
     },
     "execution_count": 4,
     "metadata": {},
     "output_type": "execute_result"
    }
   ],
   "source": [
    "z2 = (x1 * w3) + (x2 * w4) + b1\n",
    "a2 = 1 / (1 + np.exp(-z2))\n",
    "a2"
   ]
  },
  {
   "cell_type": "code",
   "execution_count": 5,
   "id": "1835064c-d4e1-4c92-a796-9b725ac2f486",
   "metadata": {},
   "outputs": [
    {
     "data": {
      "text/plain": [
       "0.6248064744684293"
      ]
     },
     "execution_count": 5,
     "metadata": {},
     "output_type": "execute_result"
    }
   ],
   "source": [
    "a1 = 1 / (1 + np.exp(-z1))\n",
    "a1"
   ]
  },
  {
   "cell_type": "code",
   "execution_count": 6,
   "id": "14fd90fe-6322-4975-ba77-cd58576c7d40",
   "metadata": {},
   "outputs": [
    {
     "data": {
      "text/plain": [
       "0.7194006710513193"
      ]
     },
     "execution_count": 6,
     "metadata": {},
     "output_type": "execute_result"
    }
   ],
   "source": [
    "z21 = (a1 * w5) + (a2 * w6) + b2\n",
    "a21 = 1 / (1 + np.exp(-z21))\n",
    "a21"
   ]
  },
  {
   "cell_type": "code",
   "execution_count": 7,
   "id": "01c94db1-611d-4167-a8be-c6fb133f7e24",
   "metadata": {},
   "outputs": [
    {
     "data": {
      "text/plain": [
       "0.6728397191051313"
      ]
     },
     "execution_count": 7,
     "metadata": {},
     "output_type": "execute_result"
    }
   ],
   "source": [
    "z22 = (a1 * w7) + (a2 * w8) + b2\n",
    "a22 = 1 / (1 + np.exp(-z22))\n",
    "a22"
   ]
  },
  {
   "cell_type": "code",
   "execution_count": 8,
   "id": "8739e002-1fd2-457e-bde3-9332f6c7d456",
   "metadata": {},
   "outputs": [
    {
     "data": {
      "text/plain": [
       "0.17780144466022077"
      ]
     },
     "execution_count": 8,
     "metadata": {},
     "output_type": "execute_result"
    }
   ],
   "source": [
    "t1 = 0.15\n",
    "t2 = 0.85\n",
    "e = 0.5 * ((t1 - a21)**2 + (t2 - a22)**2)\n",
    "e"
   ]
  },
  {
   "cell_type": "code",
   "execution_count": 9,
   "id": "b72907a0-4c37-473d-a94f-8ba4d4b48457",
   "metadata": {},
   "outputs": [
    {
     "data": {
      "text/plain": [
       "0.11208184809232771"
      ]
     },
     "execution_count": 9,
     "metadata": {},
     "output_type": "execute_result"
    }
   ],
   "source": [
    "-(t1 - a2) * (a2 * (1 - a2))"
   ]
  }
 ],
 "metadata": {
  "kernelspec": {
   "display_name": "Python 3 (ipykernel)",
   "language": "python",
   "name": "python3"
  },
  "language_info": {
   "codemirror_mode": {
    "name": "ipython",
    "version": 3
   },
   "file_extension": ".py",
   "mimetype": "text/x-python",
   "name": "python",
   "nbconvert_exporter": "python",
   "pygments_lexer": "ipython3",
   "version": "3.9.10"
  }
 },
 "nbformat": 4,
 "nbformat_minor": 5
}
